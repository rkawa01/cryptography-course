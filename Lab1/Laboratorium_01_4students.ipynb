{
  "cells": [
    {
      "cell_type": "markdown",
      "metadata": {
        "id": "b8lteRqm1B8g"
      },
      "source": [
        "# Kryptografia klasyczna (od starożytności do czasów współczesnych)\n",
        "### Literatura:\n",
        "1. Księga szyfrów, Simon Singh, Świat książki, 2001\n",
        "2. Łamacze kodów, David Kahn, WNT, 2004"
      ]
    },
    {
      "cell_type": "markdown",
      "metadata": {
        "id": "KGDNKPPM1B8h"
      },
      "source": [
        "### Szyfr Cezara\n",
        "--------------\n",
        "Szyfr Cezara oczywiście nie zawdzięcza swego istnienia Juliuszowi Cezarowi. Został przezeń jedynie wspomniany w pamiętnikach o wojnach galijskich. Prawdopodobnie była to dobrze znana metoda w tym czasie."
      ]
    },
    {
      "cell_type": "code",
      "execution_count": null,
      "metadata": {
        "id": "cP5KzA361B8h"
      },
      "outputs": [],
      "source": [
        "# Alfabet jawny i szyfrowy\n",
        "alphabet = ['a','b', 'c', 'd', 'e', 'f', 'g', 'h', 'i', 'j', 'k', 'l', 'm', 'n', 'o', 'p',\n",
        "            'q', 'r', 's', 't', 'u', 'v', 'w', 'x', 'y', 'z']\n",
        "\n",
        "alphabet_size = 26\n",
        "\n",
        "plaintext = \"Zorro fly zealotry zipper\"\n",
        "\n",
        "ciphertext = \"\"\n",
        "\n",
        "key = 15 #przesunięcie permutacji czyli klucz szyfrowania\n",
        "\n",
        "print(\"Tekst jawny: \", plaintext)\n",
        "\n",
        "for text in plaintext.lower().split():\n",
        "    for char in text:\n",
        "        ciphertext = ciphertext + alphabet[(alphabet.index(char) + key) % alphabet_size]\n",
        "print(\"Szyfrogram: \",  ciphertext, \"(spacje usunięte)\")\n",
        "\n",
        "decodedtext = \"\"\n",
        "for text in ciphertext:\n",
        "    for char in text:\n",
        "        decodedtext = decodedtext + alphabet[(alphabet.index(char)- key) % alphabet_size]\n",
        "print(\"Odszyfrowana wiadomość: \",  decodedtext,  \"(spacje usunięte)\")"
      ]
    },
    {
      "cell_type": "markdown",
      "metadata": {
        "id": "whgpeeOo1B8i"
      },
      "source": [
        "## Szyfr monoalfabetyczny:\n",
        "_danemu symbolowi alfabetu jawnego odpowiada dokładnie jeden i ten sam symbol alfabetu tajnego._"
      ]
    },
    {
      "cell_type": "markdown",
      "metadata": {
        "id": "u6jzkI5Z1B8i"
      },
      "source": [
        "### Zastanów się:\n",
        "1. Czy szyfr Cezara jest łatwy do złamania? Ile prób (testów przesunięć) trzeba aby złamać szyfr Cezara?\n",
        "2. Co to jest atak siłowy (__brute force__)?  \n",
        "3. Zaproponuj i zaimplementuj wariant szyfru Cezara, która wymaga wykonania większej liczby prób podczas ataku?  \n",
        "4. Oceń koszt ataku na ten wariant Cezara."
      ]
    },
    {
      "cell_type": "markdown",
      "metadata": {
        "id": "-BLLgA8g1B8i"
      },
      "source": [
        "### Zadanie samodzielne dla studentów\n",
        "1. Napisz ,,ulepszony szyfr Cezara'' czyli monoalfabetyczny szyfr z tajną pemutacją alfabetu szyfrowego\n",
        "2. Można wykorzystać funkcję random.permutation() z biblioteki numpy"
      ]
    },
    {
      "cell_type": "code",
      "execution_count": null,
      "metadata": {
        "id": "n2rlLZ4S1B8i"
      },
      "outputs": [],
      "source": [
        "# lepszy Cezar\n",
        "import numpy as np\n",
        "plaintext = \"Zorro fly zealotry zipper\"\n"
      ]
    },
    {
      "cell_type": "markdown",
      "metadata": {
        "id": "6hhpXYf71B8j"
      },
      "source": [
        "## Kryptoanaliza szyfrów monoalfabetycznych\n",
        "\n",
        "Współcześnie kryptoanaliza szyfru Cezara jest trywialna. Można po prostu sprawdzić wszystkie 26 możliwych przesunięć.\n",
        "\n",
        "Szyfry monoalfabetyczne nie są także odporne na __kryptoanalizę statystyczną__. Znając rozkład częstości liter w tekstach napisanych w danym języku możemy odgadnąć przesunięcie obserwując minima i maxima w histogramach.\n",
        "\n",
        "W zasadzie kluczową sprawą w obu przypadkach jest znajomość języka, a w gruncie rzeczy alfabetu."
      ]
    },
    {
      "cell_type": "markdown",
      "metadata": {
        "id": "Xn1dFgr61B8j"
      },
      "source": [
        "### Zadanie samodzielne dla studentów\n",
        "1. Narysuj rozkład częstości występowania liter w języku angielskim (kod rysowania histogramu poniżej)"
      ]
    },
    {
      "cell_type": "code",
      "execution_count": null,
      "metadata": {
        "id": "0bcx5pf11B8j"
      },
      "outputs": [],
      "source": [
        "from matplotlib import pyplot as plt\n",
        "import numpy as np\n",
        "\n",
        "frequency = [0.080, 0.015, 0.030, 0.040, 0.130, 0.020, 0.015, 0.060, 0.065, 0.005, 0.005, 0.035, 0.030, 0.070, 0.080, 0.020, 0.002, 0.065, 0.060, 0.090, 0.030, 0.010, 0.015, 0.005, 0.020, 0.002]\n",
        "labels = np.arange(26)\n",
        "plt.figure(figsize=(15,9))\n",
        "plt.bar(labels, frequency, alpha=0.5, edgecolor=\"green\")\n",
        "plt.xlabel('Alfabet')\n",
        "plt.xticks(np.arange(26), alphabet)\n",
        "plt.title(\"Język angielski\");\n",
        "plt.ylabel('Częstość występowania')\n",
        "plt.show()"
      ]
    },
    {
      "cell_type": "markdown",
      "metadata": {
        "id": "t1XLDUv41B8j"
      },
      "source": [
        "2. Dokonaj analizy częstości występowania liter w tekście jawnym i szyfrogramie (szyfr Cezara z dowolnym przesunięciem) dla tekstu w poniższym fragmencie kodu. Wyświetl wyniki podobnie jak powyżej.\n",
        "3. Dokonaj analizy częstości występowania liter w szyfrogramie wygenerowanym przez \"ulepszonego Cezara\""
      ]
    },
    {
      "cell_type": "code",
      "execution_count": null,
      "metadata": {
        "scrolled": true,
        "id": "T1E2pwwg1B8j"
      },
      "outputs": [],
      "source": [
        "plaintext = \"tobeornottobethatisthequestionwhethertisnoblerinthemindtosuffertheslingsandarrowsofoutrageousfortuneortotakearmsagainstaseaoftroublesandbyopposingendthem\"\n",
        "\n",
        "\n",
        "# policz częstość i wyświetl rozkłady"
      ]
    },
    {
      "cell_type": "markdown",
      "metadata": {
        "id": "malbHVfP1B8k"
      },
      "source": [
        "## Podsumowanie\n",
        "Główną słabością szyfrów monoalfabetycznych jest stałość przekształcenia, dzięki czemu możliwe jest łatwe zaobserwowanie regularności.\n",
        "\n",
        "Rozwiązaniem może być zmiana alfabetów w trakcie szyfrowania. Dla uproszczenia wystarczy zmieniać jedynie porządek liter w alfabetach szyfrowych.\n",
        "\n",
        "### Zadanie samodzielne dla studentów\n",
        "1. Napisać program, który zmienia alfabet szyfrowania po każdej literze.\n",
        "_Co będzie potrzebne oprócz tekst jawnego?_\n",
        "2. Dokonaj analizy częstościowej szyfrogramu zaszyfrowanego szyfrem Vigenera\n"
      ]
    },
    {
      "cell_type": "code",
      "execution_count": null,
      "metadata": {
        "id": "zzzP5AKB1B8k"
      },
      "outputs": [],
      "source": [
        "plaintext = \"tobeornottobethatisthequestionwhethertisnoblerinthemindtosuffertheslingsandarrowsofoutrageousfortuneortotakearmsagainstaseaoftroublesandbyopposingendthem\"\n",
        "key = \"klucz\"\n",
        "ciphertext = \"\"\n"
      ]
    },
    {
      "cell_type": "markdown",
      "metadata": {
        "id": "JRbkkUfV1B8k"
      },
      "source": [
        "### Zastanów się:\n",
        "1. Sprawdź jak wygląda histogram szyfrogramu.\n",
        "2. Zastanów się jakie znaczenia ma długość klucza dla bezpieczeństwa szyfrowania.\n",
        "3. Czy powtarzanie klucza można wykorzystać dla potrzeb kryptoanalizy?\n",
        "4. Jaki klucz gwarantowałby bezpieczeństwo?\n",
        "5. Jaki rozkład częstości symboli szyfrogramu nie ujawni żadnych przydatnych danych kryptoanalitykowi?\n",
        "\n",
        "## Szyfr polialfabetyczny\n",
        "_Szyfr używający wielu alfabetów szyfrowych. W trakcie szyfrowania te same litery w tekście jawnym_\n",
        "\n",
        "## Szyfr doskonały (według Clouda Shannona):\n",
        "1. Jakie warunki musi spełniać szyfr-nie-do-złamania?"
      ]
    },
    {
      "cell_type": "code",
      "execution_count": null,
      "metadata": {
        "id": "wnCxq0Ld1B8k"
      },
      "outputs": [],
      "source": []
    }
  ],
  "metadata": {
    "kernelspec": {
      "display_name": "Python 3 (ipykernel)",
      "language": "python",
      "name": "python3"
    },
    "language_info": {
      "codemirror_mode": {
        "name": "ipython",
        "version": 3
      },
      "file_extension": ".py",
      "mimetype": "text/x-python",
      "name": "python",
      "nbconvert_exporter": "python",
      "pygments_lexer": "ipython3",
      "version": "3.10.6"
    },
    "colab": {
      "provenance": []
    }
  },
  "nbformat": 4,
  "nbformat_minor": 0
}