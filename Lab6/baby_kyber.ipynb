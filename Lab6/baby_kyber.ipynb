{
 "cells": [
  {
   "cell_type": "markdown",
   "id": "4680a3d8",
   "metadata": {},
   "source": [
    "# Kryptografia - Baby Kyber"
   ]
  },
  {
   "cell_type": "markdown",
   "id": "bc7ea698",
   "metadata": {},
   "source": [
    "## Pierścień $\\mathbb{Z}_n$"
   ]
  },
  {
   "cell_type": "code",
   "execution_count": 1,
   "id": "5ddf7c0c",
   "metadata": {},
   "outputs": [],
   "source": [
    "class Zn():\n",
    "    def __init__(self,num,N):\n",
    "        self.N=N\n",
    "        self.num=num%self.N\n",
    "        \n",
    "    def __str__(self):\n",
    "        return str(self.num)\n",
    "        \n",
    "    def __add__(self,other):\n",
    "        if isinstance(other,Zn):\n",
    "            if self.N==other.N:\n",
    "                return Zn(self.num+other.num,self.N)\n",
    "            else:\n",
    "                raise ValueError('Not compatible mod rings')\n",
    "        elif isinstance(other,int):\n",
    "            return Zn(self.num+other,self.N)\n",
    "        else:\n",
    "            raise TypeError(f\"unsupported operand type(s) for +: 'Zn' and '{type(other).__name__}'\")\n",
    "        \n",
    "            \n",
    "    def __radd__(self,other):\n",
    "        if isinstance(other,int):\n",
    "            return Zn(self.num+other,self.N)\n",
    "        else:\n",
    "            raise TypeError(f\"unsupported operand type(s) for +: '{type(other).__name__}' and 'Zn'\")\n",
    "    \n",
    "    \n",
    "    def __mul__(self,other):\n",
    "        if isinstance(other,Zn):\n",
    "            if self.N==other.N:\n",
    "                return Zn(self.num*other.num,self.N)\n",
    "            else:\n",
    "                raise ValueError('Not compatible mod rings')\n",
    "        elif isinstance(other,int):\n",
    "            return Zn(self.num*other,self.N)\n",
    "        else:\n",
    "            raise TypeError(f\"unsupported operand type(s) for *: 'Zn' and '{type(other).__name__}'\")\n",
    "        \n",
    "    def __rmul__(self,other):\n",
    "        if isinstance(other,int):\n",
    "            return Zn(self.num*other,self.N)\n",
    "        else:\n",
    "            raise TypeError(f\"unsupported operand type(s) for *: '{type(other).__name__}' and 'Zn'\")\n",
    "    \n",
    "    def __sub__(self,other):\n",
    "        if isinstance(other,Zn):\n",
    "            if self.N==other.N:\n",
    "                return Zn(self.num-other.num,self.N)\n",
    "            else:\n",
    "                raise ValueError('Not compatible mod rings')\n",
    "        elif isinstance(other,int):\n",
    "            return Zn(self.num-other,self.N)\n",
    "        else:\n",
    "            raise TypeError(f\"unsupported operand type(s) for -: 'Zn' and '{type(other).__name__}'\")\n",
    "        \n",
    "            \n",
    "    def __rsub__(self,other):\n",
    "        if isinstance(other,int):\n",
    "            return Zn(other-self.num,self.N)\n",
    "        else:\n",
    "            raise TypeError(f\"unsupported operand type(s) for -: '{type(other).__name__}' and 'Zn'\")\n",
    "            \n",
    "    def __pow__(self,other):\n",
    "        if isinstance(other,Zn):\n",
    "            if self.N==other.N:\n",
    "                return Zn(pow(self.num,other.num,self.N),self.N)\n",
    "            else:\n",
    "                raise ValueError('Not compatible mod rings')\n",
    "        elif isinstance(other,int):\n",
    "            return Zn(pow(self.num,other,self.N),self.N)\n",
    "        else:\n",
    "            raise TypeError(f\"unsupported operand type(s) for **: 'Zn' and '{type(other).__name__}'\")\n",
    "       \n",
    "            \n",
    "    def __rpow__(self,other):\n",
    "        if isinstance(other,int):\n",
    "            return Zn(pow(other,self.num,self.N),self.N)\n",
    "        else:\n",
    "            raise TypeError(f\"unsupported operand type(s) for **: '{type(other).__name__}' and 'Zn'\")\n",
    "            \n",
    "    def __repr__(self):\n",
    "        return str(self.num)"
   ]
  },
  {
   "cell_type": "markdown",
   "id": "c444d5d3",
   "metadata": {},
   "source": [
    "## Pierścień $\\mathbb{Z}_{17}[X]/(X^4+1)$"
   ]
  },
  {
   "cell_type": "code",
   "execution_count": 2,
   "id": "1279a018",
   "metadata": {},
   "outputs": [],
   "source": [
    "import numpy as np\n",
    "\n",
    "class Rq():\n",
    "    q=17\n",
    "    f=np.array([1,0,0,0,1])\n",
    "    def __init__(self,vec):\n",
    "        _,r=np.polydiv(np.array(vec),self.f)\n",
    "        self.vec=r%17\n",
    "        \n",
    "    def __repr__(self):\n",
    "        return str(self.vec)\n",
    "        \n",
    "    def __add__(self,other):\n",
    "        if isinstance(other,Rq):\n",
    "            return Rq(np.polyadd(self.vec,other.vec))\n",
    "        else:\n",
    "            raise TypeError(f\"unsupported operand type(s) for +: 'Rq' and '{type(other).__name__}'\")\n",
    "            \n",
    "    def __sub__(self,other):\n",
    "        if isinstance(other,Rq):\n",
    "            return Rq(np.polyadd(self.vec,-1*other.vec))\n",
    "        else:\n",
    "            raise TypeError(f\"unsupported operand type(s) for +: 'Rq' and '{type(other).__name__}'\")\n",
    "    \n",
    "    \n",
    "    def __mul__(self,other):\n",
    "        if isinstance(other,Rq):\n",
    "            return Rq(np.polymul(self.vec,other.vec))\n",
    "        elif isinstance(other,int):\n",
    "            return Rq(other*self.vec)\n",
    "        else:\n",
    "            raise TypeError(f\"unsupported operand type(s) for *: 'Rq' and '{type(other).__name__}'\")\n",
    "        \n",
    "    __rmul__=__mul__"
   ]
  },
  {
   "cell_type": "markdown",
   "id": "ffc5b429",
   "metadata": {},
   "source": [
    "## Baby Kyber"
   ]
  },
  {
   "cell_type": "markdown",
   "id": "9d5febcb",
   "metadata": {},
   "source": [
    "### Generowanie klucza\n",
    "\n",
    "$A=\\left[\\begin{matrix}\n",
    "    6x^3+16x^2+16x+11&9x^3+4x^2+6x+3\\\\\n",
    "    5x^3+3x^2+10x+1&6x^3+x^2+9x+15\n",
    "\\end{matrix}\\right]$\n",
    "\n",
    "$\\mathbf{s}=(-x^3-x^2+x,-x^3-x)$\n",
    "\n",
    "$\\mathbf{e}=(x^2,x^2-x)$\n",
    "\n",
    "$\\mathbf{t}=A\\mathbf{s}+\\mathbf{e}:\\ \\ \\mathbf{t}=(16x^3+15x^2+7,10x^3+12x^2+11x+6)$"
   ]
  },
  {
   "cell_type": "code",
   "execution_count": 53,
   "id": "069eefca",
   "metadata": {},
   "outputs": [
    {
     "name": "stdout",
     "output_type": "stream",
     "text": [
      "(4, 4)\n"
     ]
    },
    {
     "ename": "ValueError",
     "evalue": "operands could not be broadcast together with shapes (4,4) (2,) ",
     "output_type": "error",
     "traceback": [
      "\u001b[0;31m---------------------------------------------------------------------------\u001b[0m",
      "\u001b[0;31mValueError\u001b[0m                                Traceback (most recent call last)",
      "Cell \u001b[0;32mIn [53], line 14\u001b[0m\n\u001b[1;32m      9\u001b[0m s \u001b[38;5;241m=\u001b[39m np\u001b[38;5;241m.\u001b[39marray([Rq(coeff) \u001b[38;5;28;01mfor\u001b[39;00m coeff \u001b[38;5;129;01min\u001b[39;00m s_coeffs])\n\u001b[1;32m     10\u001b[0m \u001b[38;5;66;03m# print(A,s)\u001b[39;00m\n\u001b[1;32m     11\u001b[0m \u001b[38;5;66;03m# e = Rq([[0, 1, 0, 0],[0, 1, -1, 0]])\u001b[39;00m\n\u001b[1;32m     12\u001b[0m \u001b[38;5;66;03m# e_coeffs = np.array([[0, 1, 0, 0],[0, 1, -1, 0]])\u001b[39;00m\n\u001b[1;32m     13\u001b[0m \u001b[38;5;66;03m# e = np.array([[Rq(coeff) for coeff in row] for row in e_coeffs])\u001b[39;00m\n\u001b[0;32m---> 14\u001b[0m t \u001b[38;5;241m=\u001b[39m A\u001b[38;5;241m*\u001b[39ms\n\u001b[1;32m     15\u001b[0m \u001b[38;5;28mprint\u001b[39m(t)\n",
      "\u001b[0;31mValueError\u001b[0m: operands could not be broadcast together with shapes (4,4) (2,) "
     ]
    }
   ],
   "source": [
    "# A = Rq([[6, 16, 16, 11], [9, 4, 6, 3],[5, 3, 10 ,1], [6, 1, 9, 15]])\n",
    "A_coeffs = np.array([[6, 16, 16, 11], [9, 4, 6, 3], [5, 3, 10, 1], [6, 1, 9, 15]])\n",
    "print(A_coeffs.shape)\n",
    "# A = np.array([Rq(coeff) for coeff in A_coeffs])\n",
    "A = np.array([[Rq(coeff) for coeff in row] for row in A_coeffs])\n",
    "# s = Rq([[-1, -1, 1, 0],[ -1, 0, -1, 0]])\n",
    "s_coeffs = np.array([[-1, -1, 1, 0],[ -1, 0, -1, 0]])\n",
    "# s = np.array([[Rq(coeff) for coeff in row] for row in s_coeffs])\n",
    "# s = np.array([Rq(coeff) for coeff in s_coeffs])\n",
    "# print(A,s)\n",
    "# e = Rq([[0, 1, 0, 0],[0, 1, -1, 0]])\n",
    "# e_coeffs = np.array([[0, 1, 0, 0],[0, 1, -1, 0]])\n",
    "# e = np.array([[Rq(coeff) for coeff in row] for row in e_coeffs])\n",
    "t = A*s\n",
    "print(t)\n",
    "# print(t + e)\n"
   ]
  },
  {
   "cell_type": "markdown",
   "id": "60e43683",
   "metadata": {},
   "source": [
    "### Szyfrowanie\n",
    "\n",
    "$m=1\\cdot x^3+0\\cdot x^2+1\\cdot x+1=x^3+x+1$\n",
    "\n",
    "$\\mathbf{r}=(-x^3+x^2,x^3+x^2-1)$\n",
    "\n",
    "$\\mathbf{e_1}=(x^2+x,x^2)$\n",
    "\n",
    "$e_2=-x^3-x^2$\n",
    "\n",
    "$\\mathbf{u}=A^T\\mathbf{r}+\\mathbf{e_1}:\\ \\ \\mathbf{u}=(11x^3+11x^2+10x+3,4x^3+4x^2+13x+11)$\n",
    "\n",
    "$v=\\mathbf{t}^T\\mathbf{r}+e_2+\\lfloor\\frac{q}{2}\\rceil m:\\ \\ v=8x^3+6x^2+9x+16$\n",
    "\n",
    "$\\mathbf{c}=(\\mathbf{u},v):\\ \\ \\mathbf{c}=((11x^3+11x^2+10x+3,4x^3+4x^2+13x+11),8x^3+6x^2+9x+16)$"
   ]
  },
  {
   "cell_type": "code",
   "execution_count": null,
   "id": "902d15cc",
   "metadata": {},
   "outputs": [],
   "source": []
  },
  {
   "cell_type": "markdown",
   "id": "c0b5fd48",
   "metadata": {},
   "source": [
    "### Deszyfrowanie\n",
    "$m_n=v-\\mathbf{s}^T\\mathbf{u}:\\ \\ m_n=8x^3+14x^2+8x+6$\n"
   ]
  },
  {
   "cell_type": "code",
   "execution_count": null,
   "id": "9d5ea81f",
   "metadata": {},
   "outputs": [],
   "source": []
  }
 ],
 "metadata": {
  "kernelspec": {
   "display_name": "Python 3 (ipykernel)",
   "language": "python",
   "name": "python3"
  },
  "language_info": {
   "codemirror_mode": {
    "name": "ipython",
    "version": 3
   },
   "file_extension": ".py",
   "mimetype": "text/x-python",
   "name": "python",
   "nbconvert_exporter": "python",
   "pygments_lexer": "ipython3",
   "version": "3.10.0"
  }
 },
 "nbformat": 4,
 "nbformat_minor": 5
}
