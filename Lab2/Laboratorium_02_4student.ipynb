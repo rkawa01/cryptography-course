{
  "cells": [
    {
      "cell_type": "markdown",
      "metadata": {
        "id": "a_hG5L7X10w_"
      },
      "source": [
        "# Kryptografia z kluczem tajnym (symetryczna): szyfry strumieniowe\n",
        "### Literatura:\n",
        "1. Nowoczesna kryptografia, Aumasson\n",
        "2. Kryptografia dla praktyków, Schneier"
      ]
    },
    {
      "cell_type": "markdown",
      "metadata": {
        "id": "FGxETr0L10xC"
      },
      "source": [
        "### Historia szyfrów strumieniowych\n",
        "1. Zapoznaj się z działaniem szyfrem Vernama\n",
        "2. Szyfr Vernama jako szyfr doskonały\n",
        "![machine-vernam.jpg](attachment:machine-vernam.jpg)"
      ]
    },
    {
      "cell_type": "markdown",
      "metadata": {
        "id": "C1Ca4cZj10xD"
      },
      "source": [
        "#### Funkcje pomocnicze\n",
        "Zadaniem poniższego zestawu funkcji jest zamiana wiadomości tekstowej (poprzez kody ASCII) do (tekstowego) ciągu 0 i 1. Chcemy analizować funkcje tak jak są one opisane w książkach.\n"
      ]
    },
    {
      "cell_type": "code",
      "execution_count": 3,
      "metadata": {
        "id": "IgHBVT2T10xE"
      },
      "outputs": [
        {
          "name": "stdout",
          "output_type": "stream",
          "text": [
            "Liczba 200 w zapisie binarnym na 8 bitach: 11001000\n",
            "Liczba 200 w zapisie binarnym na 16 bitach: 0000000011001000\n",
            "Tekst w formie kodów ASCII:  [84, 104, 101, 32, 113, 117, 105, 99, 107, 32, 98, 114, 111, 119, 110, 32, 102, 111, 120, 32, 106, 117, 109, 112, 115, 32, 111, 118, 101, 114, 32, 116, 104, 101, 32, 108, 97, 122, 121, 32, 100, 111, 103]\n",
            "Tekst w formie porcji bitów: ['01010100', '01101000', '01100101', '00100000', '01110001', '01110101', '01101001', '01100011', '01101011', '00100000', '01100010', '01110010', '01101111', '01110111', '01101110', '00100000', '01100110', '01101111', '01111000', '00100000', '01101010', '01110101', '01101101', '01110000', '01110011', '00100000', '01101111', '01110110', '01100101', '01110010', '00100000', '01110100', '01101000', '01100101', '00100000', '01101100', '01100001', '01111010', '01111001', '00100000', '01100100', '01101111', '01100111']\n",
            "Tekst w postaci ciągu 0 i 1: 01010100011010000110010100100000011100010111010101101001011000110110101100100000011000100111001001101111011101110110111000100000011001100110111101111000001000000110101001110101011011010111000001110011001000000110111101110110011001010111001000100000011101000110100001100101001000000110110001100001011110100111100100100000011001000110111101100111\n",
            "\n",
            "AND 0101010001100\n",
            "OR 0101010001101\n",
            "XOR 0000000000001\n",
            "NEG 1010101110010\n"
          ]
        }
      ],
      "source": [
        "# Funkcje pomocnicze\n",
        "from textwrap import wrap\n",
        "import math\n",
        "from codecs import encode\n",
        "\n",
        "#tablica znaków w tablicę kodów int\n",
        "def intoASCIIArray(message: str):\n",
        "    int_array = []\n",
        "    mesg_array = list(message)\n",
        "    for i in mesg_array:\n",
        "        int_array.append(ord(i))\n",
        "    return int_array\n",
        "\n",
        "#tablica kodów int w tablice znaków\n",
        "def intoCharArray(message: []):\n",
        "    mesg_char = []\n",
        "    for i in message:\n",
        "        mesg_char.append(chr(i))\n",
        "    return mesg_char\n",
        "\n",
        "# jak wyświetlić dane w postaci binarnej na n bitach\n",
        "get_bin = lambda x, n: format(x, 'b').zfill(n)\n",
        "\n",
        "#tekst ascii w postaci tablicy 8-bitowych porcji\n",
        "def ASCIIToBinChunks(message_list):\n",
        "    binary = []\n",
        "    for x in message_list:\n",
        "        binary.append(get_bin(x, 8))\n",
        "    return binary\n",
        "\n",
        "#tekst ascii w formie strumienia bitów\n",
        "def ASCIIToBinStream(binary: []):\n",
        "    binary_str = \"\"\n",
        "    for x in binary:\n",
        "        binary_str+=x\n",
        "    return binary_str\n",
        "\n",
        "\n",
        "# Przykłady\n",
        "\n",
        "# Liczba 200 w zapisie binarnym\n",
        "l = 200\n",
        "bl = get_bin(l,8)\n",
        "print(\"Liczba 200 w zapisie binarnym na 8 bitach:\", bl)\n",
        "bl = get_bin(l,16)\n",
        "print(\"Liczba 200 w zapisie binarnym na 16 bitach:\", bl)\n",
        "\n",
        "\n",
        "messageTxt = 'The quick brown fox jumps over the lazy dog'\n",
        "messageASCII = intoASCIIArray(messageTxt)\n",
        "print(\"Tekst w formie kodów ASCII: \",messageASCII)\n",
        "messageASCIIBinChunks = ASCIIToBinChunks(messageASCII)\n",
        "print(\"Tekst w formie porcji bitów:\", messageASCIIBinChunks)\n",
        "messageASCIIBinStream = ASCIIToBinStream(messageASCIIBinChunks)\n",
        "print(\"Tekst w postaci ciągu 0 i 1:\", messageASCIIBinStream)\n",
        "print()\n",
        "\n",
        "\n",
        "#Operatory logiczne działające na napisach bitów\n",
        "def XOR(bits1,bits2):\n",
        "    \"\"\"perform a XOR operation and return the output\"\"\"\n",
        "    xor_result = \"\"\n",
        "    for index in range(len(bits1)):\n",
        "        if bits1[index] == bits2[index]:\n",
        "            xor_result += '0'\n",
        "        else:\n",
        "            xor_result += '1'\n",
        "    return xor_result\n",
        "\n",
        "def AND(bits1,bits2):\n",
        "    \"\"\"perform a AND operation and return the output\"\"\"\n",
        "    and_result = \"\"\n",
        "    for index in range(len(bits1)):\n",
        "        if (bits1[index] == '1') and  (bits2[index] == '1'):\n",
        "            and_result += '1'\n",
        "        else:\n",
        "            and_result += '0'\n",
        "    return and_result\n",
        "\n",
        "def OR(bits1,bits2):\n",
        "    \"\"\"perform a OR operation and return the output\"\"\"\n",
        "    or_result = \"\"\n",
        "    for index in range(len(bits1)):\n",
        "        if (bits1[index] == '0') and  (bits2[index] == '0'):\n",
        "            or_result += '0'\n",
        "        else:\n",
        "            or_result += '1'\n",
        "    return or_result\n",
        "\n",
        "def NEG(bits):\n",
        "    \"\"\"perform a NEG operation and return the output\"\"\"\n",
        "    neg_result = \"\"\n",
        "    for index in range(len(bits)):\n",
        "        if (bits[index] == '0'):\n",
        "            neg_result += '1'\n",
        "        else:\n",
        "            neg_result += '0'\n",
        "    return neg_result\n",
        "\n",
        "print(\"AND\", AND('0101010001101', '0101010001100'))\n",
        "print(\"OR\", OR('0101010001101', '0101010001100'))\n",
        "print(\"XOR\", XOR('0101010001101', '0101010001100'))\n",
        "print(\"NEG\", NEG('0101010001101'))"
      ]
    },
    {
      "cell_type": "code",
      "execution_count": 4,
      "metadata": {
        "id": "F5YMsYYe10xG"
      },
      "outputs": [
        {
          "name": "stdout",
          "output_type": "stream",
          "text": [
            "Losowe bajty: ['10001110', '11111000', '11000111', '11110101', '11101100', '01010100', '00111110', '10011110']\n",
            "Strumień bitów: 1000111011111000110001111111010111101100010101000011111010011110\n",
            "Pojedyncze losowe bajty:10000110 00000010\n"
          ]
        }
      ],
      "source": [
        "# Generowanie losowych danych: funkcje i algorytmy pomocnicze\n",
        "import random\n",
        "random.seed(\"key\")  #generator PRNG w python można inicjalizować tekstem\n",
        "\n",
        "# jak wygenerować 8 losowych bitów (razy n)\n",
        "def randomBytes(n):\n",
        "    return bytes(random.getrandbits(8) for i in range(n))\n",
        "\n",
        "def randomByte():\n",
        "    return random.randint(0,255)\n",
        "\n",
        "def randomByteBin():\n",
        "    return get_bin(random.randint(0,255),8)\n",
        "\n",
        "#jak wygenerować ciąg losowych bajtów\n",
        "random_stream_chunks = []\n",
        "for i in range(8):\n",
        "    random_stream_chunks.append(randomByteBin())\n",
        "\n",
        "print(\"Losowe bajty:\", random_stream_chunks)\n",
        "\n",
        "randomBinaryString = \"\"\n",
        "for i in random_stream_chunks:\n",
        "    randomBinaryString+=i\n",
        "\n",
        "print(\"Strumień bitów:\", randomBinaryString)\n",
        "\n",
        "print(\"Pojedyncze losowe bajty:\", end=\"\")\n",
        "bits1 = randomByteBin()\n",
        "bits2 = get_bin(randomByte(),8)\n",
        "print(bits1, bits2)"
      ]
    },
    {
      "cell_type": "markdown",
      "metadata": {
        "id": "xcPnx2Ns10xH"
      },
      "source": [
        "### Zadanie samodzielne dla studentów\n",
        "Zaimplementuj szyfr, który utajnia strumień wiadomości jawnej przez łączenie go z pseudolosowym strumieniem\n"
      ]
    },
    {
      "cell_type": "code",
      "execution_count": 12,
      "metadata": {
        "id": "N1vwCmmL10xH",
        "scrolled": false
      },
      "outputs": [
        {
          "name": "stdout",
          "output_type": "stream",
          "text": [
            "Writing 's' (str) to file 'plaintext.txt'.\n",
            "Tekst w postaci ciągu 0 i 1: 010011000110111101110010011001010110110100100000011010010111000001110011011101010110110100100000011001000110111101101100011011110111001000100000011100110110100101110100001000000110000101101101011001010111010000101100001000000110001101101111011011100111001101100101011000110111010001100101011101000111010101110010001000000110000101100100011010010111000001101001011100110110001101101001011011100110011100100000011001010110110001101001011101000010111000100000010011100111010101101110011000110010000001100101011001110110010101110100001000000110000101110101011001110111010101100101001000000110010101100111011001010111010000100000011100110110010101101101001000000111001101101111011001000110000101101100011001010111001100100000011101010110110001110100011100100110100101100011011001010111001100101110001000000101000101110101011010010111001101110001011101010110010100100000011001000110000101110000011010010110001001110101011100110010110000100000011101010111001001101110011000010010000001110011011010010111010000100000011000010110110101100101011101000010111000001010\n",
            "Strumień bitów klucza: 100011101111100011000111111101011110110001010100001111101001111010000110000000101101001011011101010100000100101111100011000010011001100110101100101000011000110010100111111001110110011001001001100110010111001001000101011011010111010010011100011111000011101011011110011010110101110000001001110110110110101011011100011010101001100110110111000000111000110000100100101100001100110011101110100011010111101111111011001010011001001101011000110011110111110010000011001110110010010010010111001001101001001111001000110011011111000000000100001000010111101101110011011000010111100111110001000111010101011111001011001101110100011000001010111001100000100000001001110011011111011001011101011000100000101001110111001100011101111100000000011000000000101100000011110000010010110010111001011101101100100001011011001001010110011001011000010101100100000001011101110001011010100000110010010101100101110110100101111111010000000100100111010001011000010110001000010011011111110100100100010010100111010100100110101000010110010011100110101100101110110101111001101000001101011000000011101101010000111101000110011001001110110010000000100001010101111001001000101011110001110100011100010111010010111001111111000000100010010110010011011111001000100001100011100000010010001111010110011001111001110101001111110110110101010001001001101101101000101010111001111010010000110111111011010010101101101011010000000100010111100000011111000111111100111110001000110010010000001110110110110100111100101111010000110110010110111010011010010001101101110011100010010100001111001100010110101000100011100010010110111000110010011001010100000000110001101001111001001001100000101011010011010000011101100111010101101011001101011001100101111001010100010001011111000011111011111101000100011100110110010010111001110010010001011001110000111111010100011110101000110111011011000101110010010010111000101100001011101010011010011101000010101001001011111010100100011111001000010010000100111010110101001110011011011010001111001101110000111100001111010100111111010111001001010011110010010100111101011101000111000111001101101101010000100001011111100110011011100001001011011011000001010011001110100110100101111001000100011000010011110111110011111110110110101001101111011111100000000010110111011011110000100100101001011011100101101100000011110110011111100110111111100011001001010110010111101011001100010101110111001001001100101100000010011101001000000101010010011111101000000011110011010101101111001001000100100001011110010001101000010111001110001001001010111110110001111101000110100011011111110001101001001111110011001101000000101000011001100100111101001101010100100000101111001000110000100101101000000010001100010101110000111010111100111101000001000101010101111000101010111001100000101110101010011001100001001000101010111100011110001111100100000111100101110011000001100111111101101011000010001110001011010111100001001000011011000101000111010001010000010011110010010000101111011010101100011111010101011001000101101011000001100110001000010000111011011100100010010101111010111100101011110010110100110011001000001010011111111010011110010000010010100101001100101001100011111010110110111101011010011110011101111100111000010000001111101101101100110110100101101100011111001011001110001001000010010001000000011011000001011011101000111001110011010101101111000001001110110001010100111001100111011001110011001011111110100101101101111010101111011010100011100100111001000000000110011000111001001101111110000100110100100100101010010011111010010111111111001000110001100010110010000110100000110101001111100000000100111110001001001011000000001000001000111001101111011011000000010001010000000110111101011000011001001001100101101010010110001101000110011111100110110110101101111111001111110001001000101011111100110101000001001000100011001101001111101000101111001111010110111010000000111101111001111111110001001010001111100000111111010110111010100111110000001101010001101011110110010101100111010000000110011011100110011101100011100101010000001001010100101101100101100011001110010100011011001000000000000100100101010111010000011111100000110101011011110011111010011110110101100100111011010001011011011110100100110110010110000110101100111111011001001111010100011110001110000000000110000010011100110111010000101110011001111010110101101001101011111100111100010011000000010100010001110100100001010110101111110001110011011101101011100100101101010110100100000010000000010010101001111110001001011011000101000001001100001011010101101001110110110010100110100101010011100110001000011000111001001101011001110000101101000100011010001011101110110101110010000110101000100011111011011010111100010010110011010001000110000011011110100110101101010101011010000000011100111000001011111101100110110011110001101100001010101000101110001100100101010101001011010100100110110101100110110010010011111011111011111100100101110101000100000011101111010110111000101000001101010011001011010110011011101000011000001101110110101100101011010110110100010010100000010010101010111000000000111000111100000011000101011010000010001111110110000111000010111011100100100011100011000101010000010100010110000110000101010011110000100001100011000100100110111110011000000000110000000111011001110110000001000100011100010001000100011011010110000111000000101100111111110100101000000000111110011100010110101011000001111100101110110110000110110011000011011111010010000011001101011111010111101101010101001100110101000011010110111110001011111111001111000111111111101010010010111100011010010111111010001001101101000111110110111010010010000010101101000111010110101010011111100011101110111101011110001100111000110110101000001010011100001000101111010001110100101101011111100010111010011100101001001111101000011111101001110000000111111100111010011001010100001001000100000001010101101110101110000001110101011010100101100010011111001101100001000100000011010011011110111000111010010110000000110000100110110111101011101011010101111111100101101111101101000111111010100001111011100110010111110100111001100011001011100101101001101001110110001101100100111011100011001100001110001100100010010001111110000000010010101000100100011010011100100110100101011101010000110000110010001110001100100101101101101110011100110010100000101011101011010010100111110010100000011000111110110001110001111010000000011110010001110010110101010001101101111010010111010010011010101010110100101011101010100101100011010011010011000110001011111111000111100010000110000001101010100100100000110110110100110000111000001111100000010001000111011000011111010100011100100010010011101110100100001111101101000111101000011011010100010000111101100110100000111010101111111111001110111001111000001111111001101110011110010110111011111100000100101100010100000100111111011101111101101111101000111010111100111000011001100110001010100110101101010101101000110001110000111001011010111010010100110010001110111010101110001110010101011110000001110011000010000100010111111000100001001000011000100100111010000001000100110001000101110000111000101000010101100011101111100001101111010110111111100001000110101101010000011010111010101110101011110010001011000100101010100010101000000111101111110000000001110010000011010010011000111111000000010000101011111010001101010101000001101111100000101000110101100101000001000101011111100111111000100100011101001110001000011001100000110101010001010101000011111100111000011001101011000110011110001110111111100001111011000001111101010011100110000010100101000010011000000110110000001110001100110011011000011000011110100101001010101011100011111010100000000011011001011110101101010100010111010101101010000111110000111100000000001010000001110101011101011001110110101111111011011011000110110100000110101110011010000101011100100000011100110001110101010111001110010101110000010011001110011110000001000010111100001110010101100010110100100010010011001010101011000010010010011000111001111100001000100110111001001110110100011101100101110111110111110001101101010011011011110011110001110000110111001000110111111001000001100110001011010001110101111101100011011111101010110011101001100001010011111111011111001010111100000000111100000101000110101000111100100011100100000101110011011111010000010010010011011111001110011100111110100011001001100010010111111000111010111011011010010101010101100011100111001101100000110100000100111100001001011110000100010101011100100010111111011000011000100011100110010000100111010010100111011000000000011111011000110010111111100011101101110110101111101110100001000101011010111011010100100011011001000100101011101011110010\n",
            "Szyfrogram: 110000101001011110110101100100001000000101110100010101111110111011110101011101111011111111111101001101000010010010001111011001101110101110001100110100101110010111010011110001110000011100100100111111000000011001101001010011010001011111110011000100100100100110111011000010000010100001101100101011110001111110101110010010101111100011010011011010101111110001001101110000111010111110000111111000110001110011011011010011001111111100110001101110110101001010100011011101010101000111111001010001011011001110101101101010101001010101110000000000010001101000000110000001100000110010010100001111010011001010101100010100100011001000101010100101010110110101100100111011011000010100110010000001100110101100011011010101001010110000100000000101010110011101110111101100110100010111011010000100111011101101110101000001010011011100101101001111110011001100101100101100001100110100010010001100100011110011010101100101000110001101010010001101101010100110101000001110001000111101001010001010110101010101010101110010000001000011000110110100111000000000011100110101001111100000001001\n",
            "[]\n"
          ]
        }
      ],
      "source": [
        "s='''Lorem ipsum dolor sit amet, consectetur adipiscing elit. Nunc eget augue eget sem sodales ultrices. Quisque dapibus, urna sit amet.'''\n",
        "%store s >plaintext.txt\n",
        "h = open(\"plaintext.txt\", \"r\")\n",
        "\n",
        "random.seed(\"key\") #przykład\n",
        "\n",
        "# Szyfrowanie strumienia bitów\n",
        "plaintext = h.read()\n",
        "plaintextASCII = intoASCIIArray(plaintext)\n",
        "plaintextASCIIBinChunks = ASCIIToBinChunks(plaintextASCII)\n",
        "plaintextASCIIBinStream = ASCIIToBinStream(plaintextASCIIBinChunks)\n",
        "\n",
        "print(\"Tekst w postaci ciągu 0 i 1:\", plaintextASCIIBinStream)\n",
        "# generate pseudorandom key stream\n",
        "keyStream = \"\"\n",
        "for i in range(len(plaintextASCIIBinStream)):\n",
        "    keyStream += randomByteBin()\n",
        "print(\"Strumień bitów klucza:\", keyStream)\n",
        "\n",
        "# XOR the plaintext and the key stream\n",
        "ciphertext = XOR(plaintextASCIIBinStream, keyStream)\n",
        "print(\"Szyfrogram:\", ciphertext)\n",
        "\n",
        "ciphertext = []\n",
        "# tu wpisz swoj kod\n",
        "\n",
        "\n",
        "print(ciphertext)"
      ]
    },
    {
      "cell_type": "markdown",
      "metadata": {
        "id": "N88eXBA410xI"
      },
      "source": [
        "### Zastanów się\n",
        "1. W jaki sposób łączymy strumień tekstu jawnego i strumień klucza? Wady i zalety różnych metod."
      ]
    },
    {
      "cell_type": "markdown",
      "metadata": {
        "id": "ywL4U8eW10xI"
      },
      "source": [
        "### Linear congruential generators (LCG)\n",
        "Generatory liniowe kongruentne sa najprostszymi generatorami dającymi ciągi liczb o dobrych własnościach statystycznych. Kolejne wyrazy ciągu generowane sa przy pomocy formuły:\n",
        "\n",
        "$z_{i+1}=(a\\cdot z_i+c)\\bmod m$\n",
        "\n",
        "Wyraz $z_0$ nazywany jest ziarnem (_seed_). Użycie tego samego ziarna gwarantuje nam wyprodukowanie tej samej sekwencji liczb.\n",
        "\n",
        "Charakterystyczną cechą GLK jest ich okresowość. Oczekujemy możliwie najdłuższego okresu (maksymalny to $m-1$). Najdłuższy okres otrzymamy gdy spełnione są pewne warunki (twierdzenie Hull'a-Dobell'a):\n",
        "\n",
        "- $c$ i $m$ są względnie pierwsze,\n",
        "- $a-1$ jest podzielne przez wszystkiem pierwsze czynniki $m$,\n",
        "- $a-1$ jest wielokrotnoścą 4 jeśli $m$ jest wielokrotnością 4.\n",
        "\n",
        "Przykładowe dobre wartości to $a=1103515245$, $c=12345$ dla $m=2^{31}$\n",
        "\n",
        "Zazwyczaj generator zwraca wartość $\\frac{z_i}{m}$, ale wyjście można przeskalować do dowolnej innej wartości.\n",
        "\n",
        "Obecnie większość PRNG to tzw. _Mersenne twister_, ale ogólna idea ich użytkowania i własności jest taka sama jak w przypadku generatorów kongruentnych."
      ]
    },
    {
      "cell_type": "code",
      "execution_count": null,
      "metadata": {
        "id": "imL1p8nL10xJ"
      },
      "outputs": [],
      "source": [
        "def lcg(x, a, c, m):\n",
        "    while True:\n",
        "        x = (a * x + c) % m\n",
        "        yield x\n",
        "\n",
        "def random_uniform_sample(n, interval, seed=0):\n",
        "    a, c, m = 1103515245, 12345, 2 ** 31\n",
        "    bsdrand = lcg(seed, a, c, m)\n",
        "\n",
        "    lower, upper = interval[0], interval[1]\n",
        "    sample = []\n",
        "\n",
        "    for i in range(n):\n",
        "        observation = (upper - lower) * (next(bsdrand) / (2 ** 31 - 1)) + lower\n",
        "        sample.append(round(observation))\n",
        "\n",
        "    return sample\n",
        "\n",
        "print(random_uniform_sample(100, [0,255],11))"
      ]
    },
    {
      "cell_type": "markdown",
      "metadata": {
        "id": "XmGq22do10xJ"
      },
      "source": [
        "### Zastanów sie\n",
        "1. Dlaczego stosowanie generatorów PRNG jako źródłą strumienia klucza to zły pomysł?"
      ]
    },
    {
      "cell_type": "markdown",
      "metadata": {
        "id": "QdOaEkLB10xJ"
      },
      "source": [
        "### Kryptograficzne generatory PRNG\n",
        "Urządzenie /dev/urandom stanowi podstawę dobrego generatora CPRNG"
      ]
    },
    {
      "cell_type": "code",
      "execution_count": null,
      "metadata": {
        "id": "RRMrnfIl10xK"
      },
      "outputs": [],
      "source": [
        "import os\n",
        "import struct\n",
        "\n",
        "# random integer using os.urandom()\n",
        "print(struct.unpack('i', os.urandom(4)))\n",
        "# Output (258871565,)\n",
        "\n",
        "# unsigned random integer using os.urandom()\n",
        "print(struct.unpack('I', os.urandom(4)))\n",
        "print(struct.unpack('I', os.urandom(4))[0] % 100)\n",
        "# Output (1015967885,)\n",
        "\n",
        "# random short number using os.urandom()\n",
        "print(struct.unpack('h', os.urandom(2)))\n",
        "# Output (-28882,)\n",
        "\n",
        "# unsigned random short using os.urandom()\n",
        "print(struct.unpack('H', os.urandom(2)))\n",
        "# Output (29492,)\n",
        "\n",
        "# Print random float using os.urandom()\n",
        "print(struct.unpack('f', os.urandom(4)))\n",
        "# Output (-4.651611836498911e+20,)\n",
        "\n",
        "# un-singed random decimal using os.urandom()\n",
        "print(struct.unpack('d', os.urandom(8)))\n",
        "# Output (-1.7024488468332834e-120,)\n",
        "\n",
        "# random char using os.urandom()\n",
        "print(struct.unpack('c', os.urandom(1)))\n",
        "# Output (b'\\xce',)"
      ]
    },
    {
      "cell_type": "markdown",
      "metadata": {
        "id": "2Ug07Pov10xK"
      },
      "source": [
        "### Zastanów się:\n",
        "1. Poszukaj informacji o szyfrach binarnie addytywnych\n",
        "2. Poszukaj informacji o szyfrach strumieniowych używanych w praktyce. Gdzie takie szyfry mogą być obecnie stosowane?"
      ]
    },
    {
      "cell_type": "markdown",
      "metadata": {
        "id": "hBcTONVL10xL"
      },
      "source": [
        "### Problem\n",
        "Utwórz dwie różne wiadomości równej długości. Zaszyfruj je szyfrem XOR z użyciem tego samego klucza. Wyznacz alternatywę rozłączną szyfrogramów (XOR) i porównaj ją z tą samą operacją wykonaną dla tekstów jawnych.  "
      ]
    },
    {
      "cell_type": "code",
      "execution_count": null,
      "metadata": {
        "id": "k6I5hi6O10xL"
      },
      "outputs": [],
      "source": [
        "message1 = 'secret'\n",
        "message2 = 'poufny'\n",
        "\n"
      ]
    },
    {
      "cell_type": "markdown",
      "metadata": {
        "id": "AL8EwkZl10xL"
      },
      "source": [
        "### Bezpieczeństwo szyfru XOR\n",
        "1. Jakie znaczenie ma powyższy wynik z punktu widzenia kryptoanalizy?\n",
        "2. Jeśli OTP to OK.\n",
        "3. Na czym polega atak ze znanym tekstem jawnym?"
      ]
    },
    {
      "cell_type": "markdown",
      "metadata": {
        "id": "wfEYrxav10xM"
      },
      "source": [
        "### Problem\n",
        "\n",
        "1. Utwórz dowolną wiadomość $M_1$.\n",
        "2. Zaszyfruj ją swoim szyfrem XOR z kluczem $K$.\n",
        "3. Wykonaj na szyfrogramie $C_1$ operację $C_2 = C_1 \\oplus (111\\ldots1)$.\n",
        "4. Odszyfruj wiadomość $C_2$ stosując ten sam klucz $K$.\n",
        "5. Porównaj wiadomości: $M_1$ i odszyfrowaną w poprzednim kroku $M_2$ (najlepiej binarnie).  "
      ]
    },
    {
      "cell_type": "code",
      "execution_count": null,
      "metadata": {
        "id": "rk2yIkJv10xM"
      },
      "outputs": [],
      "source": []
    }
  ],
  "metadata": {
    "colab": {
      "provenance": []
    },
    "kernelspec": {
      "display_name": "Python 3 (ipykernel)",
      "language": "python",
      "name": "python3"
    },
    "language_info": {
      "codemirror_mode": {
        "name": "ipython",
        "version": 3
      },
      "file_extension": ".py",
      "mimetype": "text/x-python",
      "name": "python",
      "nbconvert_exporter": "python",
      "pygments_lexer": "ipython3",
      "version": "3.10.0"
    }
  },
  "nbformat": 4,
  "nbformat_minor": 0
}
